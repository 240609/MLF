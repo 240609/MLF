{
  "nbformat": 4,
  "nbformat_minor": 0,
  "metadata": {
    "colab": {
      "provenance": [],
      "gpuType": "T4",
      "include_colab_link": true
    },
    "kernelspec": {
      "name": "python3",
      "display_name": "Python 3"
    },
    "language_info": {
      "name": "python"
    },
    "accelerator": "GPU"
  },
  "cells": [
    {
      "cell_type": "markdown",
      "metadata": {
        "id": "view-in-github",
        "colab_type": "text"
      },
      "source": [
        "<a href=\"https://colab.research.google.com/github/240609/MLF/blob/main/Project/Classification_5G_BTS_Project.ipynb\" target=\"_parent\"><img src=\"https://colab.research.google.com/assets/colab-badge.svg\" alt=\"Open In Colab\"/></a>"
      ]
    },
    {
      "cell_type": "markdown",
      "source": [
        "# **PROJEKT**"
      ],
      "metadata": {
        "id": "ldDEp0UO7eav"
      }
    },
    {
      "cell_type": "markdown",
      "source": [
        "#0. Import needed libraries"
      ],
      "metadata": {
        "id": "fjTb9OTT7XYO"
      }
    },
    {
      "cell_type": "code",
      "execution_count": 1,
      "metadata": {
        "id": "--LMPif471i9",
        "colab": {
          "base_uri": "https://localhost:8080/"
        },
        "outputId": "f35a585a-27fc-4a90-8490-3b8361e7d023"
      },
      "outputs": [
        {
          "output_type": "stream",
          "name": "stdout",
          "text": [
            "Mounted at /content/drive\n"
          ]
        }
      ],
      "source": [
        "from google.colab import drive\n",
        "drive.mount('/content/drive')\n",
        "import os\n",
        "import numpy as np\n",
        "import pandas as pd\n",
        "from sklearn.model_selection import train_test_split, GridSearchCV\n",
        "from sklearn.preprocessing import StandardScaler\n",
        "from sklearn.utils.class_weight import compute_class_weight\n",
        "from sklearn.metrics import confusion_matrix\n",
        "from imblearn.over_sampling import SMOTE\n",
        "from keras.models import Sequential\n",
        "from tensorflow.keras.layers import Conv2D, MaxPooling2D, BatchNormalization, Flatten, Dense, Dropout\n",
        "from tensorflow.keras.utils import to_categorical\n",
        "from tensorflow.keras.optimizers import Adam\n",
        "from tensorflow.keras import regularizers\n",
        "from keras.callbacks import EarlyStopping\n",
        "import matplotlib.pyplot as plt\n",
        "import seaborn as sns\n"
      ]
    },
    {
      "cell_type": "markdown",
      "source": [
        "# 1. Data preprocessing\n",
        "## 1.1 Importing data\n",
        "\n",
        "\n"
      ],
      "metadata": {
        "id": "n5tnDYu37cT3"
      }
    },
    {
      "cell_type": "code",
      "source": [
        "# Set the path to your data\n",
        "drive.mount('/content/drive')\n",
        "data_path = '/content/drive/MyDrive/MLF'\n",
        "\n",
        "\n",
        "# Load the CSV files\n",
        "label_train = pd.read_csv(os.path.join(data_path, 'label_train.csv'))\n",
        "test_format = pd.read_csv(os.path.join(data_path, 'test_format.csv'))\n",
        "\n",
        "# Load all NPY files from the Train directory\n",
        "train_data = []\n",
        "for i in range(1491):  # Assuming files are named from 0.npy to 1490.npy\n",
        "    file_path = os.path.join(data_path, 'Train', f'{i}.npy')\n",
        "    if os.path.exists(file_path):\n",
        "        data = np.load(file_path)\n",
        "        train_data.append(data)\n",
        "\n",
        "# Convert list to a NumPy array\n",
        "train_data = np.array(train_data)\n",
        "\n",
        "# Load all NPY files from the Test directory\n",
        "test_data = []\n",
        "for i in range(120):  # Assuming files are named from 0.npy to 119.npy\n",
        "    file_path = os.path.join(data_path, 'Test', f'{i}.npy')\n",
        "    if os.path.exists(file_path):\n",
        "        data = np.load(file_path)\n",
        "        test_data.append(data)\n",
        "\n",
        "# Convert list to a NumPy array\n",
        "test_data = np.array(test_data)\n",
        "\n",
        "# Display the shapes of the loaded data\n",
        "print(f'Train data shape: {train_data.shape}')\n",
        "print(f'Test data shape: {test_data.shape}')\n"
      ],
      "metadata": {
        "id": "-1EXNR6b7cr7",
        "colab": {
          "base_uri": "https://localhost:8080/"
        },
        "outputId": "52fc810f-1e84-4a10-c97a-44f891c3f551"
      },
      "execution_count": 3,
      "outputs": [
        {
          "output_type": "stream",
          "name": "stdout",
          "text": [
            "Drive already mounted at /content/drive; to attempt to forcibly remount, call drive.mount(\"/content/drive\", force_remount=True).\n",
            "Train data shape: (1491, 72, 48)\n",
            "Test data shape: (120, 72, 48)\n"
          ]
        }
      ]
    },
    {
      "cell_type": "code",
      "source": [
        "print(train_data[0])\n",
        "print(test_data[0])\n",
        "print(label_train)\n",
        "print(test_format)"
      ],
      "metadata": {
        "colab": {
          "base_uri": "https://localhost:8080/"
        },
        "id": "nALowz5BEcA0",
        "outputId": "3831a7f7-d225-4627-f6ab-5ced909426b7"
      },
      "execution_count": null,
      "outputs": [
        {
          "output_type": "stream",
          "name": "stdout",
          "text": [
            "[[-42.94846208 -34.19988488 -30.69119585 ... -43.47883062 -31.54647995\n",
            "  -45.9194625 ]\n",
            " [-41.86518571 -34.80668569 -41.2543513  ... -43.86449976 -30.51855427\n",
            "  -42.34268155]\n",
            " [-44.17245767 -30.68308296 -46.65993373 ... -31.69508203 -35.44104458\n",
            "  -52.93088205]\n",
            " ...\n",
            " [-54.30841153 -34.66132862 -34.0509651  ... -43.77111016 -22.20773064\n",
            "  -33.01597406]\n",
            " [-57.27087524 -22.44226418 -40.00710921 ... -35.46174065 -32.99610352\n",
            "  -40.59258701]\n",
            " [-49.27546527 -32.22061918 -31.86473242 ... -31.3190966  -36.97273765\n",
            "  -36.31152144]]\n",
            "[[-11.25314668 -31.84428476 -22.68082809 ... -22.52479543 -32.91363933\n",
            "  -29.65546479]\n",
            " [-21.6004675  -37.93874162 -19.49501801 ... -24.53372017 -25.91555421\n",
            "  -33.29106494]\n",
            " [-12.72565979 -19.45708105 -24.2567116  ... -24.55794644 -26.70381511\n",
            "  -34.58798993]\n",
            " ...\n",
            " [-20.83848579 -20.17628113 -27.87154065 ... -13.50993688 -23.19541761\n",
            "  -30.58345256]\n",
            " [  0.5148323  -22.00535833 -18.17926808 ... -20.55218552 -28.46280408\n",
            "  -26.58848488]\n",
            " [-19.46380877 -18.83375454 -19.52200601 ... -20.63643256 -10.84895761\n",
            "  -27.95429466]]\n",
            "        ID  target\n",
            "0        0       0\n",
            "1        1       0\n",
            "2        2       0\n",
            "3        3       0\n",
            "4        4       0\n",
            "...    ...     ...\n",
            "1486  1486       0\n",
            "1487  1487       1\n",
            "1488  1488       0\n",
            "1489  1489       0\n",
            "1490  1490       0\n",
            "\n",
            "[1491 rows x 2 columns]\n",
            "      ID  target\n",
            "0      0       0\n",
            "1      1       0\n",
            "2      2       0\n",
            "3      3       0\n",
            "4      4       0\n",
            "..   ...     ...\n",
            "115  115       0\n",
            "116  116       0\n",
            "117  117       0\n",
            "118  118       0\n",
            "119  119       0\n",
            "\n",
            "[120 rows x 2 columns]\n"
          ]
        }
      ]
    },
    {
      "cell_type": "markdown",
      "source": [
        "##1.2 Preprocesing data"
      ],
      "metadata": {
        "id": "s61ZarIf7c8Y"
      }
    },
    {
      "cell_type": "code",
      "source": [
        "def data_augment(dataset: np.array, labels: np.array, awgn_std: float = 3.0) -> tuple:\n",
        "\n",
        "    # Rozdělíme data do tří tříd\n",
        "    bts0 = dataset[labels == 0]\n",
        "    bts1 = dataset[labels == 1]\n",
        "    bts2 = dataset[labels == 2]\n",
        "\n",
        "    # Zjistíme počet vzorků pro každou třídu\n",
        "    count0, count1, count2 = bts0.shape[0], bts1.shape[0], bts2.shape[0]\n",
        "    target = max(count0, count1, count2)  # Cílový počet vzorků pro každou třídu\n",
        "\n",
        "    # Funkce pro syntézu vzorků\n",
        "    def synthesize(data, target_count):\n",
        "        n = data.shape[0]\n",
        "        diff = target_count - n  # Kolik syntetických vzorků doplníme\n",
        "        synthetic = []\n",
        "\n",
        "        for _ in range(diff):\n",
        "            idx = np.random.randint(n)  # Náhodný výběr existujícího vzorku\n",
        "            sample = data[idx]\n",
        "            noise = np.random.normal(0, awgn_std, size=sample.shape)\n",
        "            synthetic.append(sample + noise)\n",
        "        if synthetic:\n",
        "            synthetic = np.array(synthetic)\n",
        "            return np.concatenate([data, synthetic], axis=0)\n",
        "        else:\n",
        "            return data\n",
        "\n",
        "    # Augmentace pro každou třídu\n",
        "    new_bts0 = synthesize(bts0, target)\n",
        "    new_bts1 = synthesize(bts1, target)\n",
        "    new_bts2 = synthesize(bts2, target)\n",
        "\n",
        "    # Spojíme všechna data dohromady a vytvoříme příslušné štítky\n",
        "    final_data = np.concatenate([new_bts0, new_bts1, new_bts2], axis=0)\n",
        "    final_labels = np.concatenate([\n",
        "        np.full(new_bts0.shape[0], 0, dtype=labels.dtype),\n",
        "        np.full(new_bts1.shape[0], 1, dtype=labels.dtype),\n",
        "        np.full(new_bts2.shape[0], 2, dtype=labels.dtype)\n",
        "    ], axis=0)\n",
        "\n",
        "    return final_data, final_labels"
      ],
      "metadata": {
        "id": "sHnU2QAtsGCj"
      },
      "execution_count": 4,
      "outputs": []
    },
    {
      "cell_type": "code",
      "source": [
        "# === Nejprve rozděl originální data ===\n",
        "y_label = label_train[\"target\"].values\n",
        "X_train_orig, X_test, y_train_orig, y_test = train_test_split(\n",
        "    train_data,\n",
        "    y_label,\n",
        "    test_size=0.2,\n",
        "    random_state=42,\n",
        "    stratify=y_label  # zachová poměr tříd\n",
        ")\n",
        "\n",
        "# === Potom proveď augmentaci pouze na trénovací množině ===\n",
        "X_train_augmented, y_train_augmented = data_augment(X_train_orig, y_train_orig, awgn_std=3.0)\n",
        "\n",
        "# === Dále pokračuj standardním škálováním ===\n",
        "X_train_reshaped = X_train_augmented.reshape(X_train_augmented.shape[0], -1)\n",
        "X_test_reshaped = X_test.reshape(X_test.shape[0], -1)\n",
        "\n",
        "scaler = StandardScaler()\n",
        "X_train_scaled = scaler.fit_transform(X_train_reshaped)\n",
        "X_test_scaled = scaler.transform(X_test_reshaped)\n",
        "\n",
        "X_train_scaled = X_train_scaled.reshape(X_train_augmented.shape)\n",
        "X_test_scaled = X_test_scaled.reshape(X_test.shape)\n",
        "\n",
        "# === Přidání kanálové dimenze pro CNN ===\n",
        "X_train_final = X_train_scaled[..., np.newaxis]\n",
        "X_test_final = X_test_scaled[..., np.newaxis]\n",
        "\n",
        "# === One-hot encoding štítků ===\n",
        "y_train_encoded = to_categorical(y_train_augmented, num_classes=3)\n",
        "y_test_encoded = to_categorical(y_test, num_classes=3)\n"
      ],
      "metadata": {
        "id": "BqL0TKKAtyM1"
      },
      "execution_count": 5,
      "outputs": []
    },
    {
      "cell_type": "markdown",
      "source": [
        "#2. Model Selection and Implementation"
      ],
      "metadata": {
        "id": "sLMsKubl7zb1"
      }
    },
    {
      "cell_type": "code",
      "source": [
        "\n",
        "model = Sequential([\n",
        "    Conv2D(32, (3,3), activation='relu', input_shape=(72, 48, 1), padding='same'),\n",
        "    MaxPooling2D((2,2)),\n",
        "\n",
        "    Flatten(),\n",
        "    Dropout(0.4),  # Tento ponechej\n",
        "    Dense(128, activation='relu'),\n",
        "    Dense(3, activation='softmax')\n",
        "])\n",
        "\n",
        "\n",
        "model.compile(optimizer=Adam(1e-4), loss='categorical_crossentropy', metrics=['accuracy'])\n",
        "model.summary()\n",
        "\n",
        "\n"
      ],
      "metadata": {
        "colab": {
          "base_uri": "https://localhost:8080/",
          "height": 376
        },
        "id": "azQqCHmSUFBx",
        "outputId": "2ba83593-6744-4e7d-d10f-d5981fceb066"
      },
      "execution_count": 6,
      "outputs": [
        {
          "output_type": "stream",
          "name": "stderr",
          "text": [
            "/usr/local/lib/python3.11/dist-packages/keras/src/layers/convolutional/base_conv.py:107: UserWarning: Do not pass an `input_shape`/`input_dim` argument to a layer. When using Sequential models, prefer using an `Input(shape)` object as the first layer in the model instead.\n",
            "  super().__init__(activity_regularizer=activity_regularizer, **kwargs)\n"
          ]
        },
        {
          "output_type": "display_data",
          "data": {
            "text/plain": [
              "\u001b[1mModel: \"sequential\"\u001b[0m\n"
            ],
            "text/html": [
              "<pre style=\"white-space:pre;overflow-x:auto;line-height:normal;font-family:Menlo,'DejaVu Sans Mono',consolas,'Courier New',monospace\"><span style=\"font-weight: bold\">Model: \"sequential\"</span>\n",
              "</pre>\n"
            ]
          },
          "metadata": {}
        },
        {
          "output_type": "display_data",
          "data": {
            "text/plain": [
              "┏━━━━━━━━━━━━━━━━━━━━━━━━━━━━━━━━━┳━━━━━━━━━━━━━━━━━━━━━━━━┳━━━━━━━━━━━━━━━┓\n",
              "┃\u001b[1m \u001b[0m\u001b[1mLayer (type)                   \u001b[0m\u001b[1m \u001b[0m┃\u001b[1m \u001b[0m\u001b[1mOutput Shape          \u001b[0m\u001b[1m \u001b[0m┃\u001b[1m \u001b[0m\u001b[1m      Param #\u001b[0m\u001b[1m \u001b[0m┃\n",
              "┡━━━━━━━━━━━━━━━━━━━━━━━━━━━━━━━━━╇━━━━━━━━━━━━━━━━━━━━━━━━╇━━━━━━━━━━━━━━━┩\n",
              "│ conv2d (\u001b[38;5;33mConv2D\u001b[0m)                 │ (\u001b[38;5;45mNone\u001b[0m, \u001b[38;5;34m72\u001b[0m, \u001b[38;5;34m48\u001b[0m, \u001b[38;5;34m32\u001b[0m)     │           \u001b[38;5;34m320\u001b[0m │\n",
              "├─────────────────────────────────┼────────────────────────┼───────────────┤\n",
              "│ max_pooling2d (\u001b[38;5;33mMaxPooling2D\u001b[0m)    │ (\u001b[38;5;45mNone\u001b[0m, \u001b[38;5;34m36\u001b[0m, \u001b[38;5;34m24\u001b[0m, \u001b[38;5;34m32\u001b[0m)     │             \u001b[38;5;34m0\u001b[0m │\n",
              "├─────────────────────────────────┼────────────────────────┼───────────────┤\n",
              "│ flatten (\u001b[38;5;33mFlatten\u001b[0m)               │ (\u001b[38;5;45mNone\u001b[0m, \u001b[38;5;34m27648\u001b[0m)          │             \u001b[38;5;34m0\u001b[0m │\n",
              "├─────────────────────────────────┼────────────────────────┼───────────────┤\n",
              "│ dropout (\u001b[38;5;33mDropout\u001b[0m)               │ (\u001b[38;5;45mNone\u001b[0m, \u001b[38;5;34m27648\u001b[0m)          │             \u001b[38;5;34m0\u001b[0m │\n",
              "├─────────────────────────────────┼────────────────────────┼───────────────┤\n",
              "│ dense (\u001b[38;5;33mDense\u001b[0m)                   │ (\u001b[38;5;45mNone\u001b[0m, \u001b[38;5;34m128\u001b[0m)            │     \u001b[38;5;34m3,539,072\u001b[0m │\n",
              "├─────────────────────────────────┼────────────────────────┼───────────────┤\n",
              "│ dense_1 (\u001b[38;5;33mDense\u001b[0m)                 │ (\u001b[38;5;45mNone\u001b[0m, \u001b[38;5;34m3\u001b[0m)              │           \u001b[38;5;34m387\u001b[0m │\n",
              "└─────────────────────────────────┴────────────────────────┴───────────────┘\n"
            ],
            "text/html": [
              "<pre style=\"white-space:pre;overflow-x:auto;line-height:normal;font-family:Menlo,'DejaVu Sans Mono',consolas,'Courier New',monospace\">┏━━━━━━━━━━━━━━━━━━━━━━━━━━━━━━━━━┳━━━━━━━━━━━━━━━━━━━━━━━━┳━━━━━━━━━━━━━━━┓\n",
              "┃<span style=\"font-weight: bold\"> Layer (type)                    </span>┃<span style=\"font-weight: bold\"> Output Shape           </span>┃<span style=\"font-weight: bold\">       Param # </span>┃\n",
              "┡━━━━━━━━━━━━━━━━━━━━━━━━━━━━━━━━━╇━━━━━━━━━━━━━━━━━━━━━━━━╇━━━━━━━━━━━━━━━┩\n",
              "│ conv2d (<span style=\"color: #0087ff; text-decoration-color: #0087ff\">Conv2D</span>)                 │ (<span style=\"color: #00d7ff; text-decoration-color: #00d7ff\">None</span>, <span style=\"color: #00af00; text-decoration-color: #00af00\">72</span>, <span style=\"color: #00af00; text-decoration-color: #00af00\">48</span>, <span style=\"color: #00af00; text-decoration-color: #00af00\">32</span>)     │           <span style=\"color: #00af00; text-decoration-color: #00af00\">320</span> │\n",
              "├─────────────────────────────────┼────────────────────────┼───────────────┤\n",
              "│ max_pooling2d (<span style=\"color: #0087ff; text-decoration-color: #0087ff\">MaxPooling2D</span>)    │ (<span style=\"color: #00d7ff; text-decoration-color: #00d7ff\">None</span>, <span style=\"color: #00af00; text-decoration-color: #00af00\">36</span>, <span style=\"color: #00af00; text-decoration-color: #00af00\">24</span>, <span style=\"color: #00af00; text-decoration-color: #00af00\">32</span>)     │             <span style=\"color: #00af00; text-decoration-color: #00af00\">0</span> │\n",
              "├─────────────────────────────────┼────────────────────────┼───────────────┤\n",
              "│ flatten (<span style=\"color: #0087ff; text-decoration-color: #0087ff\">Flatten</span>)               │ (<span style=\"color: #00d7ff; text-decoration-color: #00d7ff\">None</span>, <span style=\"color: #00af00; text-decoration-color: #00af00\">27648</span>)          │             <span style=\"color: #00af00; text-decoration-color: #00af00\">0</span> │\n",
              "├─────────────────────────────────┼────────────────────────┼───────────────┤\n",
              "│ dropout (<span style=\"color: #0087ff; text-decoration-color: #0087ff\">Dropout</span>)               │ (<span style=\"color: #00d7ff; text-decoration-color: #00d7ff\">None</span>, <span style=\"color: #00af00; text-decoration-color: #00af00\">27648</span>)          │             <span style=\"color: #00af00; text-decoration-color: #00af00\">0</span> │\n",
              "├─────────────────────────────────┼────────────────────────┼───────────────┤\n",
              "│ dense (<span style=\"color: #0087ff; text-decoration-color: #0087ff\">Dense</span>)                   │ (<span style=\"color: #00d7ff; text-decoration-color: #00d7ff\">None</span>, <span style=\"color: #00af00; text-decoration-color: #00af00\">128</span>)            │     <span style=\"color: #00af00; text-decoration-color: #00af00\">3,539,072</span> │\n",
              "├─────────────────────────────────┼────────────────────────┼───────────────┤\n",
              "│ dense_1 (<span style=\"color: #0087ff; text-decoration-color: #0087ff\">Dense</span>)                 │ (<span style=\"color: #00d7ff; text-decoration-color: #00d7ff\">None</span>, <span style=\"color: #00af00; text-decoration-color: #00af00\">3</span>)              │           <span style=\"color: #00af00; text-decoration-color: #00af00\">387</span> │\n",
              "└─────────────────────────────────┴────────────────────────┴───────────────┘\n",
              "</pre>\n"
            ]
          },
          "metadata": {}
        },
        {
          "output_type": "display_data",
          "data": {
            "text/plain": [
              "\u001b[1m Total params: \u001b[0m\u001b[38;5;34m3,539,779\u001b[0m (13.50 MB)\n"
            ],
            "text/html": [
              "<pre style=\"white-space:pre;overflow-x:auto;line-height:normal;font-family:Menlo,'DejaVu Sans Mono',consolas,'Courier New',monospace\"><span style=\"font-weight: bold\"> Total params: </span><span style=\"color: #00af00; text-decoration-color: #00af00\">3,539,779</span> (13.50 MB)\n",
              "</pre>\n"
            ]
          },
          "metadata": {}
        },
        {
          "output_type": "display_data",
          "data": {
            "text/plain": [
              "\u001b[1m Trainable params: \u001b[0m\u001b[38;5;34m3,539,779\u001b[0m (13.50 MB)\n"
            ],
            "text/html": [
              "<pre style=\"white-space:pre;overflow-x:auto;line-height:normal;font-family:Menlo,'DejaVu Sans Mono',consolas,'Courier New',monospace\"><span style=\"font-weight: bold\"> Trainable params: </span><span style=\"color: #00af00; text-decoration-color: #00af00\">3,539,779</span> (13.50 MB)\n",
              "</pre>\n"
            ]
          },
          "metadata": {}
        },
        {
          "output_type": "display_data",
          "data": {
            "text/plain": [
              "\u001b[1m Non-trainable params: \u001b[0m\u001b[38;5;34m0\u001b[0m (0.00 B)\n"
            ],
            "text/html": [
              "<pre style=\"white-space:pre;overflow-x:auto;line-height:normal;font-family:Menlo,'DejaVu Sans Mono',consolas,'Courier New',monospace\"><span style=\"font-weight: bold\"> Non-trainable params: </span><span style=\"color: #00af00; text-decoration-color: #00af00\">0</span> (0.00 B)\n",
              "</pre>\n"
            ]
          },
          "metadata": {}
        }
      ]
    },
    {
      "cell_type": "markdown",
      "source": [
        "#3. Model Training"
      ],
      "metadata": {
        "id": "AcU6vM8272Lu"
      }
    },
    {
      "cell_type": "code",
      "source": [
        "early_stop = EarlyStopping(monitor='val_loss', patience=5, restore_best_weights=True)\n",
        "\n",
        "history = model.fit(X_train_final, y_train_encoded,\n",
        "                    validation_data=(X_test_final, y_test_encoded),\n",
        "                    epochs=20,\n",
        "                    batch_size=32,\n",
        "                    callbacks=[early_stop]\n",
        "                    )"
      ],
      "metadata": {
        "colab": {
          "base_uri": "https://localhost:8080/"
        },
        "id": "GzyNsgM9Ug7B",
        "outputId": "2593d3ae-9b2b-4c43-990a-675f8c2e5913"
      },
      "execution_count": 7,
      "outputs": [
        {
          "output_type": "stream",
          "name": "stdout",
          "text": [
            "Epoch 1/20\n",
            "\u001b[1m91/91\u001b[0m \u001b[32m━━━━━━━━━━━━━━━━━━━━\u001b[0m\u001b[37m\u001b[0m \u001b[1m13s\u001b[0m 126ms/step - accuracy: 0.8137 - loss: 0.4250 - val_accuracy: 0.9967 - val_loss: 0.0215\n",
            "Epoch 2/20\n",
            "\u001b[1m91/91\u001b[0m \u001b[32m━━━━━━━━━━━━━━━━━━━━\u001b[0m\u001b[37m\u001b[0m \u001b[1m10s\u001b[0m 110ms/step - accuracy: 0.9985 - loss: 0.0223 - val_accuracy: 0.9967 - val_loss: 0.0137\n",
            "Epoch 3/20\n",
            "\u001b[1m91/91\u001b[0m \u001b[32m━━━━━━━━━━━━━━━━━━━━\u001b[0m\u001b[37m\u001b[0m \u001b[1m18s\u001b[0m 191ms/step - accuracy: 1.0000 - loss: 0.0078 - val_accuracy: 0.9933 - val_loss: 0.0122\n",
            "Epoch 4/20\n",
            "\u001b[1m91/91\u001b[0m \u001b[32m━━━━━━━━━━━━━━━━━━━━\u001b[0m\u001b[37m\u001b[0m \u001b[1m14s\u001b[0m 123ms/step - accuracy: 1.0000 - loss: 0.0040 - val_accuracy: 0.9933 - val_loss: 0.0130\n",
            "Epoch 5/20\n",
            "\u001b[1m91/91\u001b[0m \u001b[32m━━━━━━━━━━━━━━━━━━━━\u001b[0m\u001b[37m\u001b[0m \u001b[1m20s\u001b[0m 117ms/step - accuracy: 1.0000 - loss: 0.0023 - val_accuracy: 0.9933 - val_loss: 0.0103\n",
            "Epoch 6/20\n",
            "\u001b[1m91/91\u001b[0m \u001b[32m━━━━━━━━━━━━━━━━━━━━\u001b[0m\u001b[37m\u001b[0m \u001b[1m21s\u001b[0m 124ms/step - accuracy: 1.0000 - loss: 0.0018 - val_accuracy: 0.9933 - val_loss: 0.0116\n",
            "Epoch 7/20\n",
            "\u001b[1m91/91\u001b[0m \u001b[32m━━━━━━━━━━━━━━━━━━━━\u001b[0m\u001b[37m\u001b[0m \u001b[1m20s\u001b[0m 115ms/step - accuracy: 1.0000 - loss: 0.0012 - val_accuracy: 0.9967 - val_loss: 0.0091\n",
            "Epoch 8/20\n",
            "\u001b[1m91/91\u001b[0m \u001b[32m━━━━━━━━━━━━━━━━━━━━\u001b[0m\u001b[37m\u001b[0m \u001b[1m21s\u001b[0m 119ms/step - accuracy: 1.0000 - loss: 9.4218e-04 - val_accuracy: 0.9933 - val_loss: 0.0111\n",
            "Epoch 9/20\n",
            "\u001b[1m91/91\u001b[0m \u001b[32m━━━━━━━━━━━━━━━━━━━━\u001b[0m\u001b[37m\u001b[0m \u001b[1m20s\u001b[0m 118ms/step - accuracy: 1.0000 - loss: 7.2860e-04 - val_accuracy: 0.9933 - val_loss: 0.0122\n",
            "Epoch 10/20\n",
            "\u001b[1m91/91\u001b[0m \u001b[32m━━━━━━━━━━━━━━━━━━━━\u001b[0m\u001b[37m\u001b[0m \u001b[1m11s\u001b[0m 119ms/step - accuracy: 1.0000 - loss: 5.9482e-04 - val_accuracy: 0.9933 - val_loss: 0.0108\n",
            "Epoch 11/20\n",
            "\u001b[1m91/91\u001b[0m \u001b[32m━━━━━━━━━━━━━━━━━━━━\u001b[0m\u001b[37m\u001b[0m \u001b[1m10s\u001b[0m 110ms/step - accuracy: 1.0000 - loss: 6.1452e-04 - val_accuracy: 0.9933 - val_loss: 0.0098\n",
            "Epoch 12/20\n",
            "\u001b[1m91/91\u001b[0m \u001b[32m━━━━━━━━━━━━━━━━━━━━\u001b[0m\u001b[37m\u001b[0m \u001b[1m10s\u001b[0m 104ms/step - accuracy: 1.0000 - loss: 4.9115e-04 - val_accuracy: 0.9933 - val_loss: 0.0108\n"
          ]
        }
      ]
    },
    {
      "cell_type": "markdown",
      "source": [
        "#4. Model Evaluation"
      ],
      "metadata": {
        "id": "hKVD4aAM77iS"
      }
    },
    {
      "cell_type": "code",
      "source": [
        "# Získání metrik z objektu history\n",
        "acc = history.history['accuracy']\n",
        "val_acc = history.history['val_accuracy']\n",
        "loss = history.history['loss']\n",
        "val_loss = history.history['val_loss']\n",
        "\n",
        "# Počet epoch\n",
        "epochs = range(1, len(acc) + 1)\n",
        "\n",
        "# Vykreslení přesnosti\n",
        "plt.figure(figsize=(14, 6))\n",
        "plt.subplot(1, 2, 1)\n",
        "plt.plot(epochs, acc, 'bo-', label='Tréninková přesnost')\n",
        "plt.plot(epochs, val_acc, 'ro-', label='Validační přesnost')\n",
        "plt.title('Tréninková a validační přesnost')\n",
        "plt.xlabel('Epochy')\n",
        "plt.ylabel('Přesnost')\n",
        "plt.legend()\n",
        "\n",
        "# Vykreslení ztráty\n",
        "plt.subplot(1, 2, 2)\n",
        "plt.plot(epochs, loss, 'bo-', label='Tréninková ztráta')\n",
        "plt.plot(epochs, val_loss, 'ro-', label='Validační ztráta')\n",
        "plt.title('Tréninková a validační ztráta')\n",
        "plt.xlabel('Epochy')\n",
        "plt.ylabel('Ztráta')\n",
        "plt.legend()\n",
        "\n",
        "plt.show()"
      ],
      "metadata": {
        "colab": {
          "base_uri": "https://localhost:8080/",
          "height": 565
        },
        "id": "L30LUCUvVFfq",
        "outputId": "c8c546a2-479b-4c89-f8cc-3153270b59cd"
      },
      "execution_count": 8,
      "outputs": [
        {
          "output_type": "display_data",
          "data": {
            "text/plain": [
              "<Figure size 1400x600 with 2 Axes>"
            ],
            "image/png": "[encoded data removed]"
          },
          "metadata": {}
        }
      ]
    },
    {
      "cell_type": "markdown",
      "source": [
        "#5. Conclusion\n",
        "\n"
      ],
      "metadata": {
        "id": "dHd0yitl8IAb"
      }
    },
    {
      "cell_type": "code",
      "source": [
        "# Predikce pro validační data\n",
        "y_pred = model.predict(X_test_final)\n",
        "\n",
        "# Převedeme predikce i ground-truth zpět na třídy (0, 1, 2)\n",
        "y_pred_classes = np.argmax(y_pred, axis=1)\n",
        "y_true_classes = np.argmax(y_test_encoded, axis=1)\n",
        "\n",
        "# Vytvoření matice záměn\n",
        "cm = confusion_matrix(y_true_classes, y_pred_classes)\n",
        "\n",
        "# Vykreslení\n",
        "plt.figure(figsize=(6, 5))\n",
        "sns.heatmap(cm, annot=True, fmt='d', cmap='Blues',\n",
        "            xticklabels=['BTS 0', 'BTS 1', 'BTS 2'],\n",
        "            yticklabels=['BTS 0', 'BTS 1', 'BTS 2'])\n",
        "plt.xlabel('Predikováno')\n",
        "plt.ylabel('Skutečnost')\n",
        "plt.title('Confusion Matrix')\n",
        "plt.show()"
      ],
      "metadata": {
        "colab": {
          "base_uri": "https://localhost:8080/",
          "height": 504
        },
        "id": "E7Ct6U1Pxabw",
        "outputId": "a0bf6069-b914-40b1-c987-ea916577290d"
      },
      "execution_count": 9,
      "outputs": [
        {
          "output_type": "stream",
          "name": "stdout",
          "text": [
            "\u001b[1m10/10\u001b[0m \u001b[32m━━━━━━━━━━━━━━━━━━━━\u001b[0m\u001b[37m\u001b[0m \u001b[1m0s\u001b[0m 25ms/step\n"
          ]
        },
        {
          "output_type": "display_data",
          "data": {
            "text/plain": [
              "<Figure size 600x500 with 2 Axes>"
            ],
            "image/png": "[encoded data removed]"
          },
          "metadata": {}
        }
      ]
    },
    {
      "cell_type": "markdown",
      "source": [
        "#6. Saving data"
      ],
      "metadata": {
        "id": "OU3idJ-oAZKT"
      }
    },
    {
      "cell_type": "code",
      "source": [
        "# === Příprava testovacích dat ===\n",
        "test_data_reshaped = test_data.reshape(test_data.shape[0], -1)  # (120, 3456)\n",
        "test_data_scaled = scaler.transform(test_data_reshaped)         # škálování jako tréninková data\n",
        "test_data_scaled = test_data_scaled.reshape(test_data.shape)    # zpět na (120, 72, 48)\n",
        "test_data_final = test_data_scaled[..., np.newaxis]             # přidání kanálu: (120, 72, 48, 1)\n",
        "print(test_data_final.shape)  # ověř: (120, 72, 48, 1)\n",
        "\n",
        "pred = model.predict(test_data_final)\n",
        "\n",
        "array_to_save = np.vstack((np.arange(0, 119 + 1), np.argmax(pred, axis=1)))\n",
        "#np.savetxt(\"my_guess.csv\", array_to_save.transpose(),\"%d\", \",\", header=\"ID,target\", comments=\"\")\n",
        "np.savetxt(\"/content/drive/MyDrive/MLF/Pokus.csv\", array_to_save.transpose(), \"%d\", \",\", header=\"ID,target\", comments=\"\")"
      ],
      "metadata": {
        "colab": {
          "base_uri": "https://localhost:8080/"
        },
        "id": "jK1dxudsaO57",
        "outputId": "10eab474-12ee-41d9-d22c-7ab67ee075cf"
      },
      "execution_count": 12,
      "outputs": [
        {
          "output_type": "stream",
          "name": "stdout",
          "text": [
            "(120, 72, 48, 1)\n",
            "\u001b[1m4/4\u001b[0m \u001b[32m━━━━━━━━━━━━━━━━━━━━\u001b[0m\u001b[37m\u001b[0m \u001b[1m0s\u001b[0m 30ms/step\n"
          ]
        }
      ]
    }
  ]
}