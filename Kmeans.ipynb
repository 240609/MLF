{
  "nbformat": 4,
  "nbformat_minor": 0,
  "metadata": {
    "colab": {
      "provenance": [],
      "authorship_tag": "ABX9TyNJw3/hZ+Sx+enbPtbF1bah",
      "include_colab_link": true
    },
    "kernelspec": {
      "name": "python3",
      "display_name": "Python 3"
    },
    "language_info": {
      "name": "python"
    }
  },
  "cells": [
    {
      "cell_type": "markdown",
      "metadata": {
        "id": "view-in-github",
        "colab_type": "text"
      },
      "source": [
        "<a href=\"https://colab.research.google.com/github/240609/MLF/blob/main/Kmeans.ipynb\" target=\"_parent\"><img src=\"https://colab.research.google.com/assets/colab-badge.svg\" alt=\"Open In Colab\"/></a>"
      ]
    },
    {
      "cell_type": "code",
      "source": [
        "import matplotlib.pyplot as plt\n",
        "import copy\n",
        "import numpy as np\n",
        "from numpy.linalg import norm\n",
        "from sklearn.cluster import KMeans\n",
        "\n",
        "loaded_points = np.load('sample_data/k_mean_points.npy')\n",
        "\n",
        "plt.figure()\n",
        "plt.scatter(loaded_points[:,0],loaded_points[:,1])\n",
        "\n",
        "k_clusters = 3\n",
        "\n",
        "def initialize_clusters(points: np.ndarray, k_clusters: int) -> np.ndarray:\n",
        "\n",
        "    initial_clusters = np.random.choice(points.shape[0], k_clusters, replace = False)\n",
        "    initial_clusters = points[initial_clusters, :]\n",
        "\n",
        "    return initial_clusters\n",
        "\n",
        "initial_clusters = initialize_clusters(loaded_points, k_clusters)\n",
        "print(initial_clusters)\n",
        "initial_clusters.shape\n"
      ],
      "metadata": {
        "id": "we2u-U3vLPrj",
        "colab": {
          "base_uri": "https://localhost:8080/",
          "height": 501
        },
        "outputId": "63fedd70-85fd-41fd-cc3f-1dfea4101270"
      },
      "execution_count": 79,
      "outputs": [
        {
          "output_type": "stream",
          "name": "stdout",
          "text": [
            "[[ 8.87457308  8.53148228]\n",
            " [ 9.78673506  5.43416393]\n",
            " [12.44111414 15.46262824]]\n"
          ]
        },
        {
          "output_type": "execute_result",
          "data": {
            "text/plain": [
              "(3, 2)"
            ]
          },
          "metadata": {},
          "execution_count": 79
        },
        {
          "output_type": "display_data",
          "data": {
            "text/plain": [
              "<Figure size 640x480 with 1 Axes>"
            ],
            "image/png": "[encoded data removed]"
          },
          "metadata": {}
        }
      ]
    },
    {
      "cell_type": "code",
      "source": [
        "def calculate_metric(points: np.ndarray, centroid: np.ndarray) -> np.ndarray:\n",
        "\n",
        "\n",
        "    distances_array = np.linalg.norm(points - centroid, axis=1)\n",
        "    #distances_array = np.linalg.norm(points[:, np.newaxis] - centroid, axis=2)\n",
        "    #print(distances_array)\n",
        "\n",
        "\n",
        "    return distances_array\n",
        "\n",
        "distances_array = calculate_metric(loaded_points, initial_clusters[0])\n",
        "#print(distances_array)\n",
        "distances_array.shape"
      ],
      "metadata": {
        "colab": {
          "base_uri": "https://localhost:8080/"
        },
        "id": "IDLnkY_fPFOr",
        "outputId": "28d27e02-be3d-439f-ed41-067b8741f60b"
      },
      "execution_count": 80,
      "outputs": [
        {
          "output_type": "execute_result",
          "data": {
            "text/plain": [
              "(60,)"
            ]
          },
          "metadata": {},
          "execution_count": 80
        }
      ]
    },
    {
      "cell_type": "code",
      "source": [
        "def compute_distances(points: np.ndarray, centroids_points: np.ndarray) -> np.ndarray:\n",
        "\n",
        "    distances_array = np.asarray([calculate_metric(points, centroid) for centroid in centroids_points])\n",
        "\n",
        "\n",
        "    return distances_array\n",
        "\n",
        "all_distances = compute_distances(loaded_points, initial_clusters)\n",
        "#print(all_distances)\n",
        "all_distances.shape"
      ],
      "metadata": {
        "colab": {
          "base_uri": "https://localhost:8080/"
        },
        "id": "sSh4eJVrPIyq",
        "outputId": "827b0a1f-6440-4e5c-d450-3747cf05589b"
      },
      "execution_count": 81,
      "outputs": [
        {
          "output_type": "execute_result",
          "data": {
            "text/plain": [
              "(3, 60)"
            ]
          },
          "metadata": {},
          "execution_count": 81
        }
      ]
    },
    {
      "cell_type": "code",
      "source": [
        "def assign_centroids(distances: np.ndarray) -> np.ndarray:\n",
        "\n",
        "    assigned_centroids = np.argmin(distances, axis=0)\n",
        "\n",
        "\n",
        "    return assigned_centroids\n",
        "\n",
        "assigned_centroids = assign_centroids(all_distances)\n",
        "#assigned_centroids = np.transpose(assigned_centroids)\n",
        "print(assigned_centroids.shape)\n",
        "#print(assigned_centroids)"
      ],
      "metadata": {
        "colab": {
          "base_uri": "https://localhost:8080/"
        },
        "id": "Yb1_c-bVPMl8",
        "outputId": "5c172344-a1fd-46f6-fe99-777de998bb3d"
      },
      "execution_count": 82,
      "outputs": [
        {
          "output_type": "stream",
          "name": "stdout",
          "text": [
            "(60,)\n"
          ]
        }
      ]
    },
    {
      "cell_type": "code",
      "source": [
        "def calculate_objective(assigned_centroids: np.ndarray, distances: np.ndarray) -> np.ndarray:\n",
        "\n",
        "\n",
        "    minimal_distances = distances[assigned_centroids, np.arange(distances.shape[1])]\n",
        "    objective_function_value = np.sum(minimal_distances)\n",
        "\n",
        "\n",
        "    return objective_function_value\n",
        "\n",
        "objective_function_value = calculate_objective(assigned_centroids, all_distances)\n",
        "objective_function_value"
      ],
      "metadata": {
        "colab": {
          "base_uri": "https://localhost:8080/"
        },
        "id": "mIw4jMubPP7M",
        "outputId": "b25d238b-1fd9-4ff7-d9d7-234e2d742f40"
      },
      "execution_count": 83,
      "outputs": [
        {
          "output_type": "execute_result",
          "data": {
            "text/plain": [
              "225.41187031910962"
            ]
          },
          "metadata": {},
          "execution_count": 83
        }
      ]
    },
    {
      "cell_type": "code",
      "source": [
        "def calculate_new_centroids(points: np.ndarray, assigned_centroids: np.ndarray, k_clusters: int) -> np.ndarray:\n",
        "\n",
        "\n",
        "    new_clusters = []\n",
        "    for cluster_id in range(k_clusters):\n",
        "        j = np.where(assigned_centroids == cluster_id)\n",
        "        points_sel = points[j]\n",
        "        new_clusters.append(np.mean(points_sel, axis=0))\n",
        "\n",
        "    new_clusters = np.asarray(new_clusters)\n",
        "\n",
        "\n",
        "    return new_clusters\n",
        "\n",
        "\n",
        "new_clusters = calculate_new_centroids(loaded_points, assigned_centroids, k_clusters)\n",
        "print(new_clusters)\n",
        "new_clusters.shape"
      ],
      "metadata": {
        "colab": {
          "base_uri": "https://localhost:8080/"
        },
        "id": "trUJ9I8vPTU1",
        "outputId": "143b7d01-2f68-40e1-909f-7e9e94ac25e0"
      },
      "execution_count": 84,
      "outputs": [
        {
          "output_type": "stream",
          "name": "stdout",
          "text": [
            "[[ 8.0489165   8.8391868 ]\n",
            " [ 5.19783281  3.58247642]\n",
            " [13.58564413 14.56674125]]\n"
          ]
        },
        {
          "output_type": "execute_result",
          "data": {
            "text/plain": [
              "(3, 2)"
            ]
          },
          "metadata": {},
          "execution_count": 84
        }
      ]
    },
    {
      "cell_type": "code",
      "source": [
        "def fit(points: np.ndarray, k_clusters: int, n_of_oterations: int, error: float = 0.001) -> tuple:\n",
        "\n",
        "    centroid_points = initialize_clusters(points, k_clusters)\n",
        "    last_objective = 10000.0\n",
        "    n_of_oterations = 1000\n",
        "\n",
        "    for _ in range(n_of_oterations):\n",
        "        distances = compute_distances(points, centroid_points)\n",
        "        assigned_centroids = assign_centroids(distances)\n",
        "        objective_function_value = calculate_objective(assigned_centroids, distances)\n",
        "\n",
        "        if abs(last_objective - objective_function_value) < error:\n",
        "            break\n",
        "\n",
        "        centroid_points = calculate_new_centroids(points, assigned_centroids, k_clusters)\n",
        "        last_objective = objective_function_value\n",
        "\n",
        "\n",
        "\n",
        "    return centroid_points, last_objective\n",
        "\n",
        "\n",
        "centroid_points, last_objective = fit(loaded_points, k_clusters, 1000)\n",
        "print(centroid_points)\n",
        "print(last_objective)"
      ],
      "metadata": {
        "id": "-CourHvcPXB0",
        "colab": {
          "base_uri": "https://localhost:8080/"
        },
        "outputId": "91a30d81-82e4-470e-b4fc-ff5143e6c204"
      },
      "execution_count": 85,
      "outputs": [
        {
          "output_type": "stream",
          "name": "stdout",
          "text": [
            "[[13.58564413 14.56674125]\n",
            " [ 3.94687552  3.22672218]\n",
            " [ 8.85422796  8.46194624]]\n",
            "150.0191980544267\n"
          ]
        }
      ]
    },
    {
      "cell_type": "code",
      "source": [
        "k_all = range(2, 10)\n",
        "all_objective = []\n",
        "\n",
        "for k in k_all:\n",
        "    centroid_points, last_objective = fit(loaded_points, k, 1000)\n",
        "    all_objective.append(last_objective)\n",
        "\n",
        "plt.figure()\n",
        "plt.plot(k_all, all_objective)\n",
        "plt.xlabel('K clusters')\n",
        "plt.ylabel('Sum of squared distance')\n",
        "plt.title('Elbow Method for Optimal k')\n",
        "plt.show()"
      ],
      "metadata": {
        "id": "I1maWF-mdnQg",
        "colab": {
          "base_uri": "https://localhost:8080/",
          "height": 472
        },
        "outputId": "827c58f9-ae69-4b35-c0d0-f76cf43863af"
      },
      "execution_count": 86,
      "outputs": [
        {
          "output_type": "display_data",
          "data": {
            "text/plain": [
              "<Figure size 640x480 with 1 Axes>"
            ],
            "image/png": "[encoded data removed]"
          },
          "metadata": {}
        }
      ]
    }
  ]
}