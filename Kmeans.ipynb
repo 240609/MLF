{
  "nbformat": 4,
  "nbformat_minor": 0,
  "metadata": {
    "colab": {
      "provenance": [],
      "authorship_tag": "ABX9TyM6Zkk8g2ml+q4caO63tE/+",
      "include_colab_link": true
    },
    "kernelspec": {
      "name": "python3",
      "display_name": "Python 3"
    },
    "language_info": {
      "name": "python"
    }
  },
  "cells": [
    {
      "cell_type": "markdown",
      "metadata": {
        "id": "view-in-github",
        "colab_type": "text"
      },
      "source": [
        "<a href=\"https://colab.research.google.com/github/240609/MLF/blob/main/Kmeans.ipynb\" target=\"_parent\"><img src=\"https://colab.research.google.com/assets/colab-badge.svg\" alt=\"Open In Colab\"/></a>"
      ]
    },
    {
      "cell_type": "code",
      "source": [
        "import matplotlib.pyplot as plt\n",
        "import copy\n",
        "import numpy as np\n",
        "from numpy.linalg import norm\n",
        "from sklearn.cluster import KMeans\n",
        "\n",
        "loaded_points = np.load('sample_data/k_mean_points.npy')\n",
        "\n",
        "plt.figure()\n",
        "plt.scatter(loaded_points[:,0],loaded_points[:,1])\n",
        "\n",
        "k_clusters = 3\n",
        "\n",
        "def initialize_clusters(points: np.ndarray, k_clusters: int) -> np.ndarray:\n",
        "\n",
        "    initial_clusters = np.random.choice(points.shape[0], k_clusters)\n",
        "    initial_clusters = points[initial_clusters]\n",
        "\n",
        "    return initial_clusters\n",
        "\n",
        "initial_clusters = initialize_clusters(loaded_points, k_clusters)\n",
        "print(initial_clusters)\n"
      ],
      "metadata": {
        "id": "we2u-U3vLPrj",
        "colab": {
          "base_uri": "https://localhost:8080/",
          "height": 484
        },
        "outputId": "02f2fb18-64bc-4858-cfaf-e8018108bde8"
      },
      "execution_count": 37,
      "outputs": [
        {
          "output_type": "stream",
          "name": "stdout",
          "text": [
            "[[ 0.45367464  5.98985979]\n",
            " [11.1126243  16.84469649]\n",
            " [ 9.58603089  7.36472467]]\n"
          ]
        },
        {
          "output_type": "display_data",
          "data": {
            "text/plain": [
              "<Figure size 640x480 with 1 Axes>"
            ],
            "image/png": "[encoded data removed]"
          },
          "metadata": {}
        }
      ]
    },
    {
      "cell_type": "code",
      "source": [
        "def calculate_metric(points: np.ndarray, centroid: np.ndarray) -> np.ndarray:\n",
        "\n",
        "\n",
        "    #distances_array = np.square(norm(points - centroid), axis=1)\n",
        "    distances_array = np.linalg.norm(points[:, np.newaxis] - centroid, axis=2)\n",
        "    #print(distances_array)\n",
        "\n",
        "\n",
        "    return distances_array\n",
        "\n",
        "distances_array = calculate_metric(loaded_points, initial_clusters)\n",
        "distances_array.shape"
      ],
      "metadata": {
        "colab": {
          "base_uri": "https://localhost:8080/"
        },
        "id": "IDLnkY_fPFOr",
        "outputId": "8c4a46e5-93b1-441f-fa59-62c6d7cd736f"
      },
      "execution_count": 103,
      "outputs": [
        {
          "output_type": "execute_result",
          "data": {
            "text/plain": [
              "(60, 3)"
            ]
          },
          "metadata": {},
          "execution_count": 103
        }
      ]
    },
    {
      "cell_type": "code",
      "source": [
        "def compute_distances(points: np.ndarray, centroids_points: np.ndarray) -> np.ndarray:\n",
        "\n",
        "    distances_array = np.asarray([calculate_metric(points, centroid) for centroid in centroids_points])\n",
        "\n",
        "\n",
        "    return distances_array\n",
        "\n",
        "all_distances = compute_distances(loaded_points, initial_clusters)\n",
        "all_distances.shape"
      ],
      "metadata": {
        "colab": {
          "base_uri": "https://localhost:8080/"
        },
        "id": "sSh4eJVrPIyq",
        "outputId": "cf56b71b-b2fa-4e4f-b2c3-626436d625e2"
      },
      "execution_count": 104,
      "outputs": [
        {
          "output_type": "execute_result",
          "data": {
            "text/plain": [
              "(3, 60, 1)"
            ]
          },
          "metadata": {},
          "execution_count": 104
        }
      ]
    },
    {
      "cell_type": "code",
      "source": [
        "def assign_centroids(distances: np.ndarray) -> np.ndarray:\n",
        "\n",
        "    assigned_centroids = np.argmin(distances, axis=0)\n",
        "\n",
        "\n",
        "    return assigned_centroids\n",
        "\n",
        "assigned_centroids = assign_centroids(all_distances)\n",
        "print(assigned_centroids.shape)"
      ],
      "metadata": {
        "colab": {
          "base_uri": "https://localhost:8080/"
        },
        "id": "Yb1_c-bVPMl8",
        "outputId": "721e3347-f448-4341-9d9a-1991cc245336"
      },
      "execution_count": 105,
      "outputs": [
        {
          "output_type": "stream",
          "name": "stdout",
          "text": [
            "(60, 1)\n"
          ]
        }
      ]
    },
    {
      "cell_type": "code",
      "source": [
        "def calculate_objective(assigned_centroids: np.ndarray, distances: np.ndarray) -> np.ndarray:\n",
        "\n",
        "\n",
        "    minimal_distances = distances[assigned_centroids, np.arange(distances.shape[1])]\n",
        "    objective_function_value = np.sum(minimal_distances)\n",
        "\n",
        "\n",
        "    return objective_function_value\n",
        "\n",
        "objective_function_value = calculate_objective(assigned_centroids, all_distances)\n",
        "objective_function_value"
      ],
      "metadata": {
        "colab": {
          "base_uri": "https://localhost:8080/"
        },
        "id": "mIw4jMubPP7M",
        "outputId": "51e8d0fc-732c-4f8c-ce8b-ba54760df1ed"
      },
      "execution_count": 106,
      "outputs": [
        {
          "output_type": "execute_result",
          "data": {
            "text/plain": [
              "27746.70013676082"
            ]
          },
          "metadata": {},
          "execution_count": 106
        }
      ]
    },
    {
      "cell_type": "code",
      "source": [
        "def calculate_new_centroids(points: np.ndarray, assigned_centroids: np.ndarray, k_clusters: int) -> np.ndarray:\n",
        "\n",
        "\n",
        "    new_clusters = []\n",
        "    for cluster_id in range(k_clusters):\n",
        "        j = np.where(assigned_centroids == cluster_id)\n",
        "        points_sel = points[j]\n",
        "        new_clusters.append(np.mean(points_sel, axis=0))\n",
        "\n",
        "    new_clusters = np.asarray(new_clusters)\n",
        "\n",
        "\n",
        "    return new_clusters\n",
        "\n",
        "\n",
        "new_clusters = calculate_new_centroids(loaded_points, assigned_centroids, k_clusters)\n",
        "new_clusters"
      ],
      "metadata": {
        "colab": {
          "base_uri": "https://localhost:8080/"
        },
        "id": "trUJ9I8vPTU1",
        "outputId": "fadbfef7-b6ee-4f66-cad2-5172f69d23cb"
      },
      "execution_count": 113,
      "outputs": [
        {
          "output_type": "execute_result",
          "data": {
            "text/plain": [
              "array([ 2.87691951, 13.4098336 ,  8.61964433])"
            ]
          },
          "metadata": {},
          "execution_count": 113
        }
      ]
    },
    {
      "cell_type": "code",
      "source": [
        "def fit(points: np.ndarray, k_clusters: int, n_of_oterations: int, error: float = 0.001) -> tuple:\n",
        "\n",
        "\n",
        "    ###################################\n",
        "    # Write your own code here #\n",
        "\n",
        "    centroid_points = np.array([])\n",
        "    last_objective = 10000.0\n",
        "\n",
        "    for _ in range(n_of_oterations):\n",
        "        pass\n",
        "\n",
        "    ###################################\n",
        "\n",
        "    return centroid_points, last_objective"
      ],
      "metadata": {
        "id": "-CourHvcPXB0"
      },
      "execution_count": null,
      "outputs": []
    },
    {
      "cell_type": "code",
      "source": [
        "k_all = range(2, 10)\n",
        "all_objective = []\n",
        "\n",
        "plt.figure()\n",
        "plt.plot(k_all, all_objective)\n",
        "plt.xlabel('K clusters')\n",
        "plt.ylabel('Sum of squared distance')"
      ],
      "metadata": {
        "id": "I1maWF-mdnQg"
      },
      "execution_count": null,
      "outputs": []
    },
    {
      "cell_type": "code",
      "source": [
        "from matplotlib.image import imread\n",
        "from sklearn.cluster import KMeans\n",
        "import numpy as np\n",
        "\n",
        "loaded_image = imread('sample_data/fish.jpg')\n",
        "\n",
        "plt.imshow(loaded_image)\n",
        "plt.show()\n",
        "\n",
        "def compress_image(image: np.ndarray, number_of_colours: int) -> np.ndarray:\n",
        "\n",
        "    return image\n",
        "\n",
        "\n",
        "img = compress_image(loaded_image, 30)\n",
        "\n",
        "plt.figure()\n",
        "plt.imshow(img)\n",
        "plt.show()"
      ],
      "metadata": {
        "id": "e2hCZNkddq2v"
      },
      "execution_count": null,
      "outputs": []
    }
  ]
}